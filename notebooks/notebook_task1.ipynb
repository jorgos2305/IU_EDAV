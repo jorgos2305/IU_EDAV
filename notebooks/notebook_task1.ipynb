{
 "cells": [
  {
   "cell_type": "markdown",
   "id": "5d0c23d5-6ed7-4fe3-acc8-0baf339942c4",
   "metadata": {},
   "source": [
    "# Explorative Data Analysis and Visualization\n",
    "## Course Code: DLBDSEDAV01"
   ]
  },
  {
   "cell_type": "markdown",
   "id": "8b21ae5d-9fa8-4ad7-b460-a183bad99f10",
   "metadata": {},
   "source": [
    "# Task 1:  Visually Exploring a Data Set\n",
    "\n",
    "This notebook contains the implementation of Task 1 of the Explorative Data Analysis and Visualization course (DLBDSEDAV01) and it describes the analysis of the _Electric Vehicle Specs Dataset (2025)_.\n",
    "\n",
    "The notebook includes statistical analysis of the features of the dataset, the corresponding visualizations and conculsions based on the data shown. The implementation steps and design decisions regarding the visualizations are omitted here. They are included in the Written Assignment that accompanies this notebook.\n",
    "\n",
    "Since the visualizations presented here are part of the written assignment, the titles of the figures are included in the corresponding captions (Fundamental of Data Visualization - C. Wilke).\n",
    "\n",
    "# 1. Dataset information\n",
    "\n",
    "- __Name__: Electric Vehicle Specs Dataset (2025)\n",
    "- __Source__: [Kaggle](https://www.kaggle.com/datasets/urvishahir/electric-vehicle-specifications-dataset-2025/data)\n",
    "- __Features included__:\n",
    "  \n",
    "    - __Brand and Model__: Manufacturer and specific nameplate of the EV.\n",
    "    - __Car Body Type__: Classification such as hatchback, SUV, sedan, etc.\n",
    "    - __Segment__: Vehicle segment (e.g., compact, midsize, executive).\n",
    "    - __Battery Capacity (kWh)__: The gross energy capacity of the battery.\n",
    "    - __Number of Cells and Battery Type__: Technical battery information, where available.\n",
    "    - __Efficiency (Wh/km)__: Power consumption rate of the vehicle.\n",
    "    - __Range (km)__: Estimated driving range on a full charge.\n",
    "    - __Fast Charging Power (kW)__: Maximum supported DC fast-charging power.\n",
    "    - __Fast Charge Port Type__: Connector standard (e.g., CCS, CHAdeMO).\n",
    "    - __Top Speed (km/h)__: Maximum speed of the vehicle.\n",
    "    - __0–100 km/h Acceleration (s)__: Time to reach 100 km/h from a standstill.\n",
    "    - __Torque (Nm)__: Maximum torque output, where available.\n",
    "    - __Towing Capacity (kg)__: Ability to tow loads, provided where applicable.\n",
    "    - __Cargo Volume (L)__: Luggage space, sometimes approximate or expressed in alternative units.\n",
    "    - __Seats__: Total seating capacity.\n",
    "    - __Length, Width, Height (mm)__: Physical footprint of the vehicle.\n",
    "    - __Drivetrain__: Powertrain configuration (e.g., AWD, RWD, FWD).\n",
    "    - __Source URL__: Reference link for each car in the [EV database](https://ev-database.org/)."
   ]
  },
  {
   "cell_type": "code",
   "execution_count": null,
   "id": "48c1e7b2-1ab7-4665-837b-02c4014cc1d8",
   "metadata": {},
   "outputs": [],
   "source": [
    "# For exact versions of the modules see environment.yml\n",
    "import numpy as np\n",
    "import pandas as pd\n",
    "import matplotlib.pyplot as plt\n",
    "import seaborn as sns\n",
    "\n",
    "from scipy.optimize import curve_fit\n",
    "from sklearn.metrics import r2_score\n",
    "from sklearn.linear_model import LinearRegression\n",
    "from sklearn.preprocessing import MinMaxScaler\n",
    "\n",
    "from itertools import combinations"
   ]
  },
  {
   "cell_type": "markdown",
   "id": "06d0d697-5e12-4bf3-9c43-09c4cf63b307",
   "metadata": {},
   "source": [
    "# 2. Understanding the data"
   ]
  },
  {
   "cell_type": "markdown",
   "id": "f523eee0-a564-4a48-a4d2-6171000b958e",
   "metadata": {},
   "source": [
    "Before starting with analysis of the data and calculation of statistics, the data set is examined to understand its structure, size, datatypes, missing values, etc."
   ]
  },
  {
   "cell_type": "code",
   "execution_count": null,
   "id": "534e9778-b3f1-4254-b3a2-22d69d649f7e",
   "metadata": {},
   "outputs": [],
   "source": [
    "# Take a look at the original dataset\n",
    "df = pd.read_csv(r\"../data/electric_vehicles_spec_2025.csv\")\n",
    "df.head(10)"
   ]
  },
  {
   "cell_type": "code",
   "execution_count": null,
   "id": "66bf7426-9216-4355-8cac-84f08d1f64cb",
   "metadata": {},
   "outputs": [],
   "source": [
    "# number of entries, column names, datatypes\n",
    "df.info()"
   ]
  },
  {
   "cell_type": "code",
   "execution_count": null,
   "id": "b7bb5b2e-591f-4d66-b6ae-7e30c0fc5d3c",
   "metadata": {},
   "outputs": [],
   "source": [
    "# Check for missing values. Those columns that have many missing values will be dropped since imputing lots of values can\n",
    "# enter bias into the data set\n",
    "df.isnull().sum().to_frame('Missing Values').style.background_gradient(cmap='Reds')"
   ]
  },
  {
   "cell_type": "code",
   "execution_count": null,
   "id": "2a0263dd-0a53-4c81-a956-d6de0f966353",
   "metadata": {},
   "outputs": [],
   "source": [
    "# Check for the unique values in the dataset. The columns that have only one value can be dropped since\n",
    "# this values alone does not provide any information relevant for this analysis\n",
    "df.nunique().sort_values().to_frame(\"Unique values\").style.background_gradient(cmap='Blues')"
   ]
  },
  {
   "cell_type": "code",
   "execution_count": null,
   "id": "2cc4cce9-d36f-4479-9eb0-280b60aa750d",
   "metadata": {},
   "outputs": [],
   "source": [
    "df.fast_charge_port.value_counts()"
   ]
  },
  {
   "cell_type": "markdown",
   "id": "56f82c1b-124c-4547-bb80-0741ada3b4a9",
   "metadata": {},
   "source": [
    "Based on this results these columns can be dropped:\n",
    "1. number_of_cells: Around 40% of the values in this columns are missing.\n",
    "2. battery_type: this columns offers only one unique value _Lithium-ion_. It does not provide information relevant for the current analysis.\n",
    "3. source_url: the urls contain in this column point to [EV-Database](https://ev-database.org/). It is not relevant for this analysis.\n",
    "4. From the 477 vehicles with Fast Charge Port data, 476 of them use the CCS and only one does not. Not much information for the analysis."
   ]
  },
  {
   "cell_type": "code",
   "execution_count": null,
   "id": "f886d28b-1d69-4711-8d55-65179b6077e8",
   "metadata": {},
   "outputs": [],
   "source": [
    "# Since there is only one battery type, this column does provide useful information for this analysis we can drop it\n",
    "df = df.drop([\"number_of_cells\", \"battery_type\", \"fast_charge_port\", \"source_url\"], axis=1)\n",
    "df.info()"
   ]
  },
  {
   "cell_type": "code",
   "execution_count": null,
   "id": "8db8c2c2-a611-4b3a-af00-d681ec0e905a",
   "metadata": {},
   "outputs": [],
   "source": [
    "# This mapping is used though out the notebook to properly rename the axis of the plots\n",
    "xlabel_map = {\n",
    "    \"range_km\" : \"Range (km)\",\n",
    "    \"torque_nm\" : \"Torque (Nm)\",\n",
    "    \"top_speed_kmh\" : \"Top Speed (km/h)\",\n",
    "    \"battery_capacity_kWh\" : \"Battery Capacity (kWh)\",\n",
    "    \"fast_charging_power_kw_dc\" : \"Fast Charging Power (kW)\",\n",
    "    \"acceleration_0_100_s\" : \"Acceleration 0-100 km/h (s)\",\n",
    "    \"efficiency_km_kWh\" : \"Efficiency (km/kWh)\",\n",
    "    \"drivetrain\" : \"Drivetrain\",\n",
    "    \"new_segment\" : \"New Segment\"\n",
    "}"
   ]
  },
  {
   "cell_type": "markdown",
   "id": "4881da33-f220-4a7b-acf0-aa6d2dcae63f",
   "metadata": {},
   "source": [
    "# 3 Analysis across all vehicles\n",
    "## 3.1 Number of vehicles per brand"
   ]
  },
  {
   "cell_type": "markdown",
   "id": "ec9b8958-49b9-4b8f-89ff-37542bd7b4b3",
   "metadata": {},
   "source": [
    "We see that the German brands are amogst the brands with the highest number of models, with Mercedes-Benz leading the charts with 42 models., followed by Audi, Porsche and Volkswagen.\n",
    "\n",
    "Firefly was another intereting case as a data point, since there is no name for a model so it was not counted at first, to deal with this, the value for the count is set manually to one."
   ]
  },
  {
   "cell_type": "code",
   "execution_count": null,
   "id": "8e641219-908c-4f62-a209-6331c3a78ca5",
   "metadata": {},
   "outputs": [],
   "source": [
    "df.brand.unique().shape"
   ]
  },
  {
   "cell_type": "code",
   "execution_count": null,
   "id": "7149136a-4351-4f9f-98ac-5d811a94a1b1",
   "metadata": {},
   "outputs": [],
   "source": [
    "# count the models by each brand and sort them from highest to lowest\n",
    "n_model_by_brand = df.loc[:,[\"brand\", \"model\"]].groupby(\"brand\").count().sort_values(\"model\", ascending=False)\n",
    "display(n_model_by_brand.tail())\n",
    "n_model_by_brand.loc[\"firefly\", \"model\"] = 1\n",
    "display(n_model_by_brand.tail())"
   ]
  },
  {
   "cell_type": "code",
   "execution_count": null,
   "id": "2c569a6f-f4c2-43fd-88af-852e1b8c0cdf",
   "metadata": {},
   "outputs": [],
   "source": [
    "# How many vehicle are available for each brand?\n",
    "# Interesting: which are the brands with the highest number of models. What about German brands?\n",
    "germany = [\"Mercedes-Benz\", \"Audi\", \"Porsche\", \"Volkswagen\", \"BMW\", \"Opel\", \"Smart\"]\n",
    "colors = [\"tab:blue\" if brand in germany else \"tab:gray\" for brand in n_model_by_brand.index]\n",
    "# Prepare the plot\n",
    "fig, ax = plt.subplots(figsize=(15,15))\n",
    "sns.barplot(n_model_by_brand,\n",
    "            y=n_model_by_brand.index,\n",
    "            x=\"model\", \n",
    "            hue=n_model_by_brand.index,\n",
    "            orient=\"h\",\n",
    "            legend=False,\n",
    "            ax=ax, palette=colors)\n",
    "# Place the count number right next to the bars\n",
    "for y, model_count in enumerate(n_model_by_brand[\"model\"]):\n",
    "    # default height of the bar is 0.8, to center the text add 0.2\n",
    "    # make some space between bar and text, add 0.1\n",
    "    ax.text(model_count+.1, y+.2, model_count, fontsize=14)\n",
    "# Name the axes\n",
    "ax.set_ylabel(\"Vehicle brand\", fontsize=16)\n",
    "ax.set_xlabel(\"Number of models\", fontsize=16)\n",
    "ax.set_xticks(np.arange(0,50,5))\n",
    "ax.set_xticklabels(ax.get_xticks(), fontsize=14)\n",
    "ax.set_yticks(np.arange(n_model_by_brand.index.shape[0]))\n",
    "ax.set_yticklabels(n_model_by_brand.index, fontsize=14)\n",
    "ax.grid(True, linewidth=0.5, linestyle=':', axis=\"x\")\n",
    "ax.tick_params(axis='x', length=0, pad=5)\n",
    "# remove the contours\n",
    "for position in (\"top\", \"right\", \"left\", \"bottom\"):\n",
    "    ax.spines[position].set_visible(False)\n",
    "fig.tight_layout()"
   ]
  },
  {
   "attachments": {},
   "cell_type": "markdown",
   "id": "46cc11f5-175a-46b2-ba6d-429c4a4cc08f",
   "metadata": {},
   "source": [
    "## 3.2 Features across all vehicles\n",
    "\n",
    "The goal of this section is to get an overview of the behavior of the featurea across EVs in general."
   ]
  },
  {
   "cell_type": "code",
   "execution_count": null,
   "id": "7732df51-4fcd-4ba4-ace3-db933e805ed4",
   "metadata": {},
   "outputs": [],
   "source": [
    "features = [\"range_km\", \"torque_nm\", \"top_speed_kmh\", \"acceleration_0_100_s\", \"battery_capacity_kWh\", \"fast_charging_power_kw_dc\"]"
   ]
  },
  {
   "cell_type": "markdown",
   "id": "4eb50936-f66a-4d9a-8029-b0e7fb28c3d3",
   "metadata": {},
   "source": [
    "### 3.2.1 Correlation"
   ]
  },
  {
   "cell_type": "code",
   "execution_count": null,
   "id": "74ec868a-ea36-411e-9fee-6c22f3e73b0f",
   "metadata": {},
   "outputs": [],
   "source": [
    "corr_matrix = df[features].corr()\n",
    "corr_matrix = corr_matrix.rename(columns=xlabel_map, index=xlabel_map)\n",
    "corr_matrix"
   ]
  },
  {
   "cell_type": "code",
   "execution_count": null,
   "id": "87242ce1-ca90-4dfc-8d9e-fb8ff6edeeb5",
   "metadata": {},
   "outputs": [],
   "source": [
    "mask = np.tril(np.ones_like(corr_matrix, dtype=bool),k=-1)\n",
    "mask"
   ]
  },
  {
   "cell_type": "code",
   "execution_count": null,
   "id": "8770b148-02cf-4748-b610-67f5f07bc3be",
   "metadata": {},
   "outputs": [],
   "source": [
    "fig, ax = plt.subplots(figsize=(6,6))\n",
    "sns.heatmap(corr_matrix, mask=mask, vmin=-1, vmax=1, center=0, cmap=\"PiYG\", annot=True, square=True)\n",
    "ax.xaxis.tick_top()\n",
    "ax.set_xticklabels(ax.get_xticklabels(), rotation=90, fontsize=14)\n",
    "ax.set_yticklabels(ax.get_yticklabels(), fontsize=14)\n",
    "ax.tick_params(axis=\"both\", length=0)\n",
    "ax.tick_params(axis=\"x\", pad=10)"
   ]
  },
  {
   "cell_type": "markdown",
   "id": "35f18081-5649-441a-801c-ec0828c8c0ae",
   "metadata": {},
   "source": [
    "We observe some strong correlations between the features. Some of them are expected such as _Battery Capacity_ and _Range_, i.e., if the vehicle has a large battery we expect to have a large range. _Torque_ and _Acceleration_ are also strongly negatively correlated, which is also the behavior we would expect, vehicles with high torque are the ones that the need to shortest time to reach 100 km/h.\n",
    "\n",
    "This initial observations, show clear relationships between certain characteristics. However, the correlation alone does not capture the whole picture, spcial if we include further features like the _Drivetrain_ and _Efficiency_.\n",
    "\n",
    "We will examine some of this strong correlations in more detail to explore non-linear relationships and how multiple features might interact to influence the performance parameters."
   ]
  },
  {
   "cell_type": "markdown",
   "id": "d48056e9-280c-4f46-a8dc-79021b01068b",
   "metadata": {},
   "source": [
    "### 3.2.2 Battery capacity and range\n",
    "\n",
    "We derive the _Efficiency_ of the vehicles as:\n",
    "\n",
    "$Efficiency = \\frac{\\text{Range}}{\\text{Battery capacity}}$"
   ]
  },
  {
   "cell_type": "code",
   "execution_count": null,
   "id": "b985198b-90a8-4ff3-bdcd-ba8ac8a316d4",
   "metadata": {},
   "outputs": [],
   "source": [
    "# calculating efficiency\n",
    "df['efficiency_km_kWh'] = df['range_km'] / df['battery_capacity_kWh']"
   ]
  },
  {
   "cell_type": "code",
   "execution_count": null,
   "id": "9a5af650-1506-421e-ac80-3423eef8f2d4",
   "metadata": {},
   "outputs": [],
   "source": [
    "# Caclulating the mean battery capacity and range across al vehicles\n",
    "df.loc[:,[\"battery_capacity_kWh\", \"range_km\", \"efficiency_km_kWh\"]].describe().T.rename(index=xlabel_map)"
   ]
  },
  {
   "cell_type": "markdown",
   "id": "ab42f3a4-739f-4751-bd05-a6b44fd193e6",
   "metadata": {},
   "source": [
    "We also examine the skewness of these three feature to get a sense of the symetry of the distributions."
   ]
  },
  {
   "cell_type": "code",
   "execution_count": null,
   "id": "30101d63-8e52-4d36-bc15-b589a298e0ad",
   "metadata": {},
   "outputs": [],
   "source": [
    "df.loc[:,[\"battery_capacity_kWh\", \"range_km\", \"efficiency_km_kWh\"]].skew().apply(round, args=(2,))"
   ]
  },
  {
   "cell_type": "code",
   "execution_count": null,
   "id": "1840fe23-1bf5-4097-b67a-41da18f181f2",
   "metadata": {},
   "outputs": [],
   "source": [
    "mean_range = df.range_km.mean()\n",
    "mean_battery_capacity = df.battery_capacity_kWh.mean()\n",
    "mean_efficiency = df.efficiency_km_kWh.mean()"
   ]
  },
  {
   "cell_type": "code",
   "execution_count": null,
   "id": "78f35ab0-e18f-4c79-9c95-f8f560f74027",
   "metadata": {},
   "outputs": [],
   "source": [
    "# figure and axs\n",
    "fig, axs = plt.subplots(figsize=(16,6), nrows=1, ncols=3)\n",
    "# distribution of the range\n",
    "sns.histplot(df, x=\"range_km\", bins=15, kde=True, stat=\"density\", alpha=0.5, ax=axs[0])\n",
    "# ranges must be set separately for each plot\n",
    "axs[0].set_xticks(np.arange(100,700,100), np.arange(100,700,100))\n",
    "axs[0].set_xticklabels(axs[0].get_xticklabels(), fontsize=14)\n",
    "axs[0].axvline(mean_range, color='darkred', linestyle='--', linewidth=2)\n",
    "axs[0].text(x=mean_range+10, y=axs[0].get_ylim()[1], s=f\"Mean = {mean_range:.1f}km\", fontsize=14)\n",
    "\n",
    "#distribution of the battery capacity\n",
    "sns.histplot(df, x=\"battery_capacity_kWh\", bins=15, kde=True, stat=\"density\", ax=axs[1])\n",
    "axs[1].set_xticks(np.arange(20,130,20), np.arange(20,130,20))\n",
    "axs[1].set_xticklabels(axs[1].get_xticklabels(), fontsize=14)\n",
    "axs[1].axvline(mean_battery_capacity, color='darkred', linestyle='--', linewidth=2)\n",
    "axs[1].text(x=mean_battery_capacity+2, y=axs[1].get_ylim()[1]*1.07, s=f\"Mean = {mean_battery_capacity:.1f}kWh\", fontsize=14)\n",
    "\n",
    "print(axs[2].get_ylim()[1])\n",
    "\n",
    "# distribution of the efficiency\n",
    "sns.histplot(df, x=\"efficiency_km_kWh\", bins=15, kde=True, stat=\"density\", ax=axs[2])\n",
    "axs[2].set_xticks(np.arange(3,8,1))\n",
    "axs[2].set_xticklabels(axs[2].get_xticklabels(), fontsize=14)\n",
    "axs[2].axvline(mean_efficiency, color='darkred', linestyle='--', linewidth=2)\n",
    "axs[2].text(x=mean_efficiency+.1, y=axs[2].get_ylim()[1]*1.14, s=f\"Mean = {mean_efficiency:.1f}km/kWh\", fontsize=14)\n",
    "\n",
    "# Editing the plots \n",
    "for ax in axs:#.flatten():\n",
    "    ax.grid(True, linewidth=0.5, linestyle=':', axis=\"y\")\n",
    "    ax.spines[[\"top\", \"right\", \"bottom\", \"left\"]].set_visible(False)\n",
    "    ax.set_yticks(ax.get_yticks())\n",
    "    ax.set_yticklabels(ax.get_yticklabels(), fontsize=14)\n",
    "    ax.set_xlabel(xlabel_map.get(ax.get_xlabel(), \"\"), fontsize=16) # Use the get method to avoid a KeyError when looping over last plot\n",
    "    ax.set_ylabel(ax.get_ylabel(), fontsize=16)\n",
    "    ax.tick_params(axis=\"y\", length=0)\n",
    "    ax.tick_params(axis=\"x\", pad=10)\n",
    "\n",
    "\n",
    "fig.tight_layout()"
   ]
  },
  {
   "cell_type": "markdown",
   "id": "e37489b7-c5a0-467b-89c7-e4061480b33b",
   "metadata": {},
   "source": [
    "From the distributions we observe:\n",
    "\n",
    "1. Mean Battery Capacity = 74.0 kWh; Mean range = 393.2 km; Mean efficiency = 5.4 km/kWh\n",
    "2. The low values of skewness confirm that the distributions are approximately symmetric (-0.5, 0.5)"
   ]
  },
  {
   "cell_type": "code",
   "execution_count": null,
   "id": "854bca3c-cb9d-4fdf-abfd-af58f3e634d7",
   "metadata": {},
   "outputs": [],
   "source": [
    "# Create figure\n",
    "fig, ax = plt.subplots(figsize=(14,7))\n",
    "# Battery capcity and Range\n",
    "sns.scatterplot(df.rename(columns=xlabel_map),\n",
    "                x=xlabel_map.get(\"battery_capacity_kWh\"),\n",
    "                y=xlabel_map.get(\"range_km\"),\n",
    "                style=xlabel_map.get(\"drivetrain\"),\n",
    "                hue=xlabel_map.get(\"efficiency_km_kWh\"),\n",
    "                s=100,\n",
    "                palette=\"copper_r\",\n",
    "                ax=ax)\n",
    "\n",
    "# Edit the plot\n",
    "ax.spines[[\"top\", \"right\", \"bottom\", \"left\"]].set_visible(False)\n",
    "ax.grid(True, linewidth=0.5, linestyle=\":\")\n",
    "ax.set_xlabel(ax.get_xlabel(), fontsize=16)\n",
    "ax.set_ylabel(ax.get_ylabel(), fontsize=16)\n",
    "ax.set_xticks(np.arange(20,130,10))\n",
    "ax.set_xticklabels(ax.get_xticks(), fontsize=14)\n",
    "ax.set_yticks(np.arange(0,900,100))\n",
    "ax.set_yticklabels(ax.get_yticks(), fontsize=14)\n",
    "\n",
    "\n",
    "# Get the vehicle with the highest battery and range - middle efficiency\n",
    "highest_range = df[(df[\"drivetrain\"]==\"RWD\") & (df[\"range_km\"]>650)]\n",
    "highest_range = highest_range[[\"brand\", \"model\", \"battery_capacity_kWh\", \"range_km\", \"efficiency_km_kWh\"]]\n",
    "\n",
    "ax.text(highest_range[\"battery_capacity_kWh\"].iloc[0] + .5,\n",
    "        highest_range[\"range_km\"].iloc[0] + 10,\n",
    "        f\"{highest_range['brand'].iloc[0]}\\n{highest_range['model'].iloc[0]}\", fontsize=10)\n",
    "\n",
    "# Get the vehicle with half of the battery size and range - high efficiency\n",
    "high_efficiency = df[(df[\"drivetrain\"]==\"RWD\") & (df[\"battery_capacity_kWh\"].between(60, 65)) & (df[\"range_km\"].between(400, 450))]\n",
    "high_efficiency = high_efficiency[[\"brand\", \"model\", \"battery_capacity_kWh\", \"range_km\", \"efficiency_km_kWh\"]]\n",
    "\n",
    "ax.text(high_efficiency[\"battery_capacity_kWh\"].iloc[0]+0.5,\n",
    "        high_efficiency[\"range_km\"].iloc[0] + 10,\n",
    "        f\"{high_efficiency['brand'].iloc[0]}\\n{high_efficiency['model'].iloc[0][:12]}\", fontsize=10)\n",
    "\n",
    "fig.tight_layout()"
   ]
  },
  {
   "cell_type": "markdown",
   "id": "5dc3d643-5e40-40cc-aaf6-f2afc716c47a",
   "metadata": {},
   "source": [
    "1. The scatter plot shows a positive correlation between battery capacity and range, i.e., range tends to increase as the battery capacity increases.\n",
    "2. _FWD_ vehicles tend to have lower values for _Range_ compared to _RWD_ and _AWD_, with more _AWD_ vehicles on the higher end of the _Range_.\n",
    "3. The plot also shows that vehicles with higher efficiency tend to have smaller batteries. An example of this, are the _Mercedes-Benz EQS 450+_ and the _Tesla Model 3_ as shown in the table below:"
   ]
  },
  {
   "cell_type": "code",
   "execution_count": null,
   "id": "64c04d6c-db3e-4048-ae97-edb556558a52",
   "metadata": {},
   "outputs": [],
   "source": [
    "pd.concat([highest_range, high_efficiency], axis=0).rename(columns=xlabel_map)"
   ]
  },
  {
   "cell_type": "code",
   "execution_count": null,
   "id": "9ed562e0-8878-403d-b9a8-28bb70e0af0e",
   "metadata": {},
   "outputs": [],
   "source": [
    "df.loc[:,[\"battery_capacity_kWh\", \"range_km\", \"efficiency_km_kWh\"]].corr().rename(columns=xlabel_map, index=xlabel_map)"
   ]
  },
  {
   "cell_type": "markdown",
   "id": "f2c0a004-843c-4d84-8ade-2843d1671f45",
   "metadata": {},
   "source": [
    "We can conclude that Battery Capacity is strongly correlated with Range but not with Efficiency. In fact, as shown in the plot above, the most efficient EVs are the ones with the smaller batteries, suggesting that Battery size does not play a crucial role in achieving high efficiency."
   ]
  },
  {
   "cell_type": "markdown",
   "id": "f4de26d9-8604-44af-8b6d-dc617eb41bc4",
   "metadata": {},
   "source": [
    "### 3.2.3 Torque, Acceleration and Top Speed"
   ]
  },
  {
   "cell_type": "markdown",
   "id": "8ce80db6-065b-4b69-8248-4296d048f56d",
   "metadata": {},
   "source": [
    "At the begining of the analysis, we detected 7 missing torque values. Since we are not doing predictive modeling, we can opt for simplicity and drop these rows."
   ]
  },
  {
   "cell_type": "code",
   "execution_count": null,
   "id": "b0781298-b7e4-4b1c-a084-56f3657330ab",
   "metadata": {},
   "outputs": [],
   "source": [
    "df[df[\"torque_nm\"].isnull()]"
   ]
  },
  {
   "cell_type": "code",
   "execution_count": null,
   "id": "32add41e-882d-4b60-826e-a502f01d133c",
   "metadata": {},
   "outputs": [],
   "source": [
    "df_torque = df.dropna(subset=\"torque_nm\")"
   ]
  },
  {
   "cell_type": "code",
   "execution_count": null,
   "id": "9f668dd3-20c1-4b88-82bf-da6ee55384aa",
   "metadata": {},
   "outputs": [],
   "source": [
    "# Caclulating the mean battery capacity and range across al vehicles\n",
    "df_torque.loc[:,[\"torque_nm\", \"top_speed_kmh\", \"acceleration_0_100_s\"]].describe().T.rename(index=xlabel_map)"
   ]
  },
  {
   "cell_type": "code",
   "execution_count": null,
   "id": "ca21ba65-3a5e-49df-b52e-ab49e746fd2c",
   "metadata": {},
   "outputs": [],
   "source": [
    "df_torque.loc[:,[\"torque_nm\", \"top_speed_kmh\", \"acceleration_0_100_s\"]].skew().apply(round, args=(2,))"
   ]
  },
  {
   "cell_type": "code",
   "execution_count": null,
   "id": "b634b2fd-374e-413e-8ab7-dc943988e234",
   "metadata": {},
   "outputs": [],
   "source": [
    "mean_top_speed = df_torque.top_speed_kmh.mean()\n",
    "mean_torque = df_torque.torque_nm.mean()\n",
    "mean_acceleration = df_torque.acceleration_0_100_s.mean()"
   ]
  },
  {
   "cell_type": "code",
   "execution_count": null,
   "id": "53557235-4e5f-4eeb-b516-f17ffd17c78d",
   "metadata": {},
   "outputs": [],
   "source": [
    "# figure and axs\n",
    "fig, axs = plt.subplots(figsize=(18,6), nrows=1, ncols=3)\n",
    "# distribution of top speed\n",
    "sns.histplot(df, x=\"top_speed_kmh\", bins=15, kde=True, stat=\"density\", ax=axs[0])\n",
    "# ranges must be set separately for each plot\n",
    "axs[0].set_xticks(np.arange(100,350,50), np.arange(100,350,50))\n",
    "axs[0].set_xticklabels(axs[0].get_xticklabels(), fontsize=14)\n",
    "axs[0].axvline(mean_top_speed, color='darkred', linestyle='--', linewidth=2)\n",
    "axs[0].text(x=mean_top_speed + 6, y=axs[0].get_ylim()[1], s=f\"Mean = {mean_top_speed:.1f}km/h\", fontsize=14)\n",
    "\n",
    "# distribution of torque\n",
    "sns.histplot(df, x=\"torque_nm\", bins=15, kde=True, stat=\"density\", ax=axs[1])\n",
    "axs[1].set_xticks(np.arange(0,1600,200), np.arange(0,1600, 200))\n",
    "axs[1].set_xticklabels(axs[1].get_xticklabels(), fontsize=14)\n",
    "axs[1].axvline(mean_torque, color='darkred', linestyle='--', linewidth=2)\n",
    "axs[1].text(x=mean_torque + 40, y=axs[1].get_ylim()[1], s=f\"Mean = {mean_torque:.1f}Nm\", fontsize=14)\n",
    "\n",
    "# distribution of acceleration\n",
    "sns.histplot(df, x=\"acceleration_0_100_s\", bins=15, kde=True, stat=\"density\", ax=axs[2])\n",
    "axs[2].set_xticks(np.arange(0,20,2), np.arange(0,20,2))\n",
    "axs[2].set_xticklabels(axs[2].get_xticklabels(), fontsize=14)\n",
    "axs[2].axvline(mean_acceleration, color='darkred', linestyle='--', linewidth=2)\n",
    "axs[2].text(x=mean_acceleration+.5, y=axs[2].get_ylim()[1]*1.04, s=f\"Mean = {mean_acceleration:.1f}km\", fontsize=14)\n",
    "\n",
    "# Editing the plots \n",
    "for ax in axs:\n",
    "    ax.grid(True, linewidth=0.5, linestyle=':', axis=\"y\")\n",
    "    ax.spines[[\"top\", \"right\", \"bottom\", \"left\"]].set_visible(False)\n",
    "    ax.set_xticks(ax.get_xticks())\n",
    "    ax.set_xticklabels(ax.get_xticklabels(), fontsize=14)\n",
    "    ax.set_yticks(ax.get_yticks())\n",
    "    ax.set_yticklabels(ax.get_yticklabels(), fontsize=14)\n",
    "    ax.set_xlabel(xlabel_map.get(ax.get_xlabel(), \"\"), fontsize=16) # Use the get method to avoid a KeyError when looping over last plot\n",
    "    ax.set_ylabel(ax.get_ylabel(), fontsize=16)\n",
    "\n",
    "fig.tight_layout()"
   ]
  },
  {
   "cell_type": "code",
   "execution_count": null,
   "id": "15f0082d-8ce7-4369-bb00-7e2038011834",
   "metadata": {},
   "outputs": [],
   "source": [
    "df.loc[:,[\"top_speed_kmh\", \"torque_nm\", \"acceleration_0_100_s\"]].describe().T.apply(round, args=(2,))"
   ]
  },
  {
   "cell_type": "code",
   "execution_count": null,
   "id": "0012f04b-d2be-47c5-aff1-794f13775e99",
   "metadata": {},
   "outputs": [],
   "source": [
    "# Function to model the behavior of torque vs acceleration and Acceleration and speed\n",
    "def decay(x, a, b, c):\n",
    "    \"\"\"Exponential decay\"\"\"\n",
    "    return a * np.exp(-b*x) + c\n",
    "\n",
    "# Function to evaluate the behvior of torque and top speed\n",
    "def grow(x, a, r):\n",
    "    \"\"\"Exponential growth\"\"\"\n",
    "    return a * ((1 + r) ** x)"
   ]
  },
  {
   "cell_type": "code",
   "execution_count": null,
   "id": "003e26f3-d265-471d-abee-93aab7b168ff",
   "metadata": {},
   "outputs": [],
   "source": [
    "# Fitting a linear regresion for torque and speed\n",
    "lr = LinearRegression()\n",
    "lr.fit(df_torque.loc[:,[\"torque_nm\"]], df_torque.loc[:,\"top_speed_kmh\"])"
   ]
  },
  {
   "cell_type": "code",
   "execution_count": null,
   "id": "5ecee8aa-5c64-4556-a774-35a406902cda",
   "metadata": {},
   "outputs": [],
   "source": [
    "# Extract the values for curve fitting\n",
    "torque = df_torque[\"torque_nm\"].values\n",
    "acceleration = df_torque[\"acceleration_0_100_s\"].values\n",
    "top_speed = df_torque[\"top_speed_kmh\"].values"
   ]
  },
  {
   "cell_type": "code",
   "execution_count": null,
   "id": "517c2024-14e1-4f8a-97d2-333794deca10",
   "metadata": {},
   "outputs": [],
   "source": [
    "# Parameters for torque vs acceleration\n",
    "# X data to plot the line\n",
    "xaxis1 = np.arange(100,1500,100)\n",
    "popt_torque_acceleration, pcov = curve_fit(decay, xdata=torque, ydata=acceleration, p0=(20.0,0.0001,2.0))\n",
    "# Parameters for torque vs top_speed\n",
    "xaxis2 = pd.DataFrame(np.arange(150,1500,100), columns=[\"torque_nm\"])\n",
    "popt_torque_speed, pcov = curve_fit(grow, xdata=torque, ydata=top_speed, p0=(120,.005))\n",
    "# Parameters for acceleration speed\n",
    "xaxis3 = np.arange(2,20,1)\n",
    "popt_acceleration_speed, pcov = curve_fit(decay, xdata=acceleration, ydata=top_speed, p0=(325.0,0.01,120.0))"
   ]
  },
  {
   "cell_type": "code",
   "execution_count": null,
   "id": "6666c49f-be51-4f71-bfcf-c3766ac13973",
   "metadata": {},
   "outputs": [],
   "source": [
    "fig, axs = plt.subplots(figsize=(14,6), nrows=1, ncols=2)\n",
    "# Torque vs acceleration\n",
    "sns.scatterplot(df_torque,\n",
    "                x=\"torque_nm\",\n",
    "                y=\"acceleration_0_100_s\",\n",
    "                ax=axs[0])\n",
    "# Plot the fitted curve\n",
    "axs[0].plot(xaxis1, decay(xaxis1, *popt_torque_acceleration), color=\"orange\", linewidth=2)\n",
    "\n",
    "# Torque vs top speed\n",
    "sns.scatterplot(df_torque,\n",
    "                x=\"torque_nm\",\n",
    "                y=\"top_speed_kmh\",\n",
    "                ax=axs[1])\n",
    "# Plot the linear regresion for comparison\n",
    "axs[1].plot(xaxis2, lr.predict(xaxis2), color=\"green\", linewidth=2)\n",
    "\n",
    "# Editing the plots \n",
    "for ax in axs:\n",
    "    ax.grid(True, linewidth=0.5, linestyle=':')\n",
    "    ax.spines[[\"top\", \"right\", \"bottom\", \"left\"]].set_visible(False)\n",
    "    ax.set_xticks(ax.get_xticks())\n",
    "    ax.set_xticklabels(ax.get_xticklabels(), fontsize=14)\n",
    "    ax.set_yticks(ax.get_yticks())\n",
    "    ax.set_yticklabels(ax.get_yticklabels(), fontsize=14)\n",
    "    ax.set_xlabel(xlabel_map.get(ax.get_xlabel(), \"\"), fontsize=16) # Use the get method to avoid a KeyError when looping over last plot\n",
    "    ax.set_ylabel(xlabel_map.get(ax.get_ylabel(), \"\"), fontsize=16)\n",
    "    ax.tick_params(axis=\"both\", length=0, pad=10)\n",
    "\n",
    "fig.tight_layout()"
   ]
  },
  {
   "cell_type": "code",
   "execution_count": null,
   "id": "e57614cc-1bf4-44af-8995-c881b85862ae",
   "metadata": {},
   "outputs": [],
   "source": [
    "(df_torque.loc[:,[\"torque_nm\", \"acceleration_0_100_s\", \"top_speed_kmh\"]]\n",
    "    .corr()\n",
    "    .rename(columns=xlabel_map, index=xlabel_map)\n",
    "    .apply(round, args=(2,)))"
   ]
  },
  {
   "cell_type": "code",
   "execution_count": null,
   "id": "98f68ee1-9183-46e0-8642-31017167bbb0",
   "metadata": {},
   "outputs": [],
   "source": [
    "linear_r2 = r2_score(top_speed, lr.predict(df_torque[[\"torque_nm\"]]))\n",
    "r2_linear_fit = round(linear_r2, 3)\n",
    "\n",
    "exp_growth_r2 = r2_score(top_speed, grow(df_torque[[\"torque_nm\"]], *popt_torque_speed))\n",
    "r2_nonlinear_fit = round(exp_growth_r2, 3)\n",
    "\n",
    "print(f\"R2 score for the linear function = {r2_linear_fit}\\nR2 score for the non-linear function = {r2_nonlinear_fit}\")"
   ]
  },
  {
   "cell_type": "markdown",
   "id": "a35ee940-049e-4db1-8f16-1e6e78990c88",
   "metadata": {},
   "source": [
    "The relationship between _Torque_ and _Acceleration_ aligns with the physical intuition: vehicles with higher torque tend to accelerate faster, resulting in lower acceleration times. This can be also observed in the correlogram, which shows a relatively strong negative correlation of -0.79. However, despite this strong correlation, the scatter plot reveals a clear non-linear trend, suggesting that a simple linear model does not properly capture the relationship between these two features.\n",
    "\n",
    "The data appears to follow an exponential decay, where increases in torque lead to progressively smaller improvements in acceleration time. This implies that while increasing torque does reduce the time to reach 100 km/h, smaller improvements are obtained after a certain point, i.e., additional torque yields only minimal acceleration increases.\n",
    "\n",
    "The correlogram also shows a strong positive correlation value of 0.81 between _Torque_ and _Top speed_. Initially, this scatter plot suggested a non-linear relationship, as it was in the previous case. However, further anaylsis revealed that the features are better explained by a linear model, as supported by the slightly higher $R^2$ value (0.649) compared to the exponential growth (0.639). This finding suggests that vehicles with high torque will tend to have higher values of top speed.\n",
    "\n",
    "In summary, vehicles with more torque not only accelerate faster but also tend to reach higher top speeds. The fact that torque is tied to both acceleration and top speed supports the idea that it is a key indicator of overall performance."
   ]
  },
  {
   "cell_type": "markdown",
   "id": "7d71c8cf-c18f-4c26-b86c-7265a1d35185",
   "metadata": {},
   "source": [
    "# 4. Analysis by segment"
   ]
  },
  {
   "cell_type": "markdown",
   "id": "63473892-0f1b-4578-8d68-31173b9704f4",
   "metadata": {},
   "source": [
    "## 4.1 Definition of vehicle segments"
   ]
  },
  {
   "cell_type": "markdown",
   "id": "324f4478-a29b-4823-932f-9e893e469d69",
   "metadata": {},
   "source": [
    "The segements contained in the dataset are divided in two big groups:\n",
    "\n",
    "1. With prefix \"J\"\n",
    "2. With no prefix\n",
    "\n",
    "The \"J\" stands for sport utility cars, the second letter indicates the segmentation according to _Case No COMP/M.1406 Hyundai / Kia Regulation (EEC) No 4064/89 Merger Procedure_ for both groups."
   ]
  },
  {
   "cell_type": "code",
   "execution_count": null,
   "id": "08cac194-5568-418a-b740-9db327266c3f",
   "metadata": {},
   "outputs": [],
   "source": [
    "# Segments starting with J refer to SUVs\n",
    "# So two major classifications can be performed SUV and not SUVs\n",
    "df[df[\"car_body_type\"] == \"SUV\"]['segment'].str.startswith(\"J\").all()"
   ]
  },
  {
   "cell_type": "code",
   "execution_count": null,
   "id": "2ed369b1-4ecd-4f82-bff6-cd8a1f8eb9e1",
   "metadata": {},
   "outputs": [],
   "source": [
    "# According to Case No COMP/M.1406 Hyundai / Kia Regulation (EEC) No 4064/89 Merger Procedure\n",
    "models_by_segment = df.groupby(\"segment\")[\"model\"].count().sort_values(ascending=False)\n",
    "fig, ax = plt.subplots(figsize=(14,7))\n",
    "sns.barplot(models_by_segment, orient=\"h\", ax=ax)\n",
    "ax.grid(True, linewidth=0.5, linestyle=\":\", axis=\"x\")\n",
    "ax.set_xticks(np.arange(0,100,5))\n",
    "ax.set_xticklabels(ax.get_xticks(), fontsize=16)\n",
    "ax.set_ylabel(\"Car Segment\", fontsize=16)\n",
    "ax.set_yticks(np.arange(models_by_segment.index.shape[0]))\n",
    "ax.set_yticklabels(models_by_segment.index, fontsize=14)\n",
    "ax.set_xlabel(\"Number of car models per Segment\", fontsize=14)\n",
    "ax.spines[[\"top\", \"right\", \"left\", \"bottom\"]].set_visible(False)"
   ]
  },
  {
   "cell_type": "code",
   "execution_count": null,
   "id": "a9d32f2c-4d94-4ca3-9b3f-c900193df837",
   "metadata": {},
   "outputs": [],
   "source": [
    "# With the original segments\n",
    "metrics = df.groupby(\"segment\")[[\"range_km\", \"torque_nm\", \"top_speed_kmh\", \"acceleration_0_100_s\", \"battery_capacity_kWh\", \"fast_charging_power_kw_dc\"]].agg([\"mean\", \"median\", \"skew\"])\n",
    "metrics = metrics.stack(1, future_stack=True)\n",
    "\n",
    "def highlight_selected(row):\n",
    "    if row.name[1] == \"mean\":\n",
    "        return [\"background-color: #f9cb9c\"] * len(row)\n",
    "    return [\"\"] * len(row)\n",
    "\n",
    "metrics.style.apply(highlight_selected, axis=1)"
   ]
  },
  {
   "cell_type": "markdown",
   "id": "ce86e4a2-3ceb-4b59-8c17-dcfea8edff3b",
   "metadata": {},
   "source": [
    "Some of the segments contained in the data set include only a few cars. In this case, the calculated statistics will not be representative, since segments with 1-3 cars can skew the mean with just one extrem value. To address this issues, the segments will be merged into broader groups that are also contextually related, this with the goal of increasing sample sizes and thus potentially improving the descriptive statistcs.\n",
    "\n",
    "Another issue that will be addressed with these broader groups is the fact that the visualizations can become cluttered and difficult to interpret.\n",
    "\n",
    "The trade-off of this approach, as mentioned before is taht the means of the new groups could be pulled towards the outliers."
   ]
  },
  {
   "cell_type": "code",
   "execution_count": null,
   "id": "608f0f3d-1dbd-4fa4-b1ec-455added8f16",
   "metadata": {},
   "outputs": [],
   "source": [
    "new_segment_categories = {\n",
    "    'A - Mini': 'Mini & Compact',\n",
    "    'JA - Mini': 'Mini & Compact',\n",
    "    'B - Compact': 'Mini & Compact',\n",
    "    'JB - Compact': 'Mini & Compact',\n",
    "    'C - Medium': 'Medium',\n",
    "    'JC - Medium': 'Medium',\n",
    "    'D - Large': 'Large & Executive',\n",
    "    'E - Executive': 'Large & Executive',\n",
    "    'JD - Large': 'Large & Executive',\n",
    "    'JE - Executive': 'Large & Executive',\n",
    "    'F - Luxury': 'Luxury & Sports',\n",
    "    'I - Luxury': 'Luxury & Sports',\n",
    "    'JF - Luxury': 'Luxury & Sports',\n",
    "    'G - Sports': 'Luxury & Sports',\n",
    "    'N - Passenger Van': 'Passenger Van'\n",
    "}"
   ]
  },
  {
   "cell_type": "code",
   "execution_count": null,
   "id": "d992eb60-b1fd-4f7a-ac8e-3ac89688118a",
   "metadata": {},
   "outputs": [],
   "source": [
    "df[\"new_segment\"] = df[\"segment\"].map(new_segment_categories)"
   ]
  },
  {
   "cell_type": "code",
   "execution_count": null,
   "id": "bf5eff3c-9dbc-431e-9c70-a9961317cc4a",
   "metadata": {},
   "outputs": [],
   "source": [
    "models_by_new_segment = df.groupby(\"new_segment\")[\"model\"].count().sort_values(ascending=False)\n",
    "fig, ax = plt.subplots(figsize=(12,6))\n",
    "sns.barplot(models_by_new_segment, orient=\"h\", ax=ax)\n",
    "ax.grid(True, linewidth=0.5, linestyle=\":\", axis=\"x\")\n",
    "ax.set_xticks(np.arange(0,155,10))\n",
    "ax.set_xticklabels(ax.get_xticks(), fontsize=16)\n",
    "ax.set_ylabel(\"Derived Car Segment\", fontsize=16)\n",
    "ax.set_yticks(np.arange(models_by_new_segment.index.shape[0]))\n",
    "ax.set_yticklabels(models_by_new_segment.index, fontsize=14)\n",
    "ax.set_xlabel(\"Number of car models per Segment\", fontsize=14)\n",
    "ax.spines[[\"top\", \"right\", \"left\", \"bottom\"]].set_visible(False)"
   ]
  },
  {
   "cell_type": "code",
   "execution_count": null,
   "id": "c0bdcdfc-fb21-4451-833d-34dc4a5da715",
   "metadata": {},
   "outputs": [],
   "source": [
    "# With the original segments\n",
    "metrics_new_segment = df.groupby(\"new_segment\")[[\"range_km\", \"torque_nm\", \"top_speed_kmh\", \"acceleration_0_100_s\", \"battery_capacity_kWh\", \"fast_charging_power_kw_dc\"]].agg([\"mean\", \"std\", \"median\", \"skew\"])\n",
    "metrics_new_segment = metrics_new_segment.stack(1, future_stack=True)\n",
    "metrics_new_segment.style.apply(highlight_selected, axis=1)"
   ]
  },
  {
   "cell_type": "markdown",
   "id": "702726a8-c383-4bb7-98a6-f56fd8ad49ed",
   "metadata": {},
   "source": [
    "### 4.2 Features by segment\n",
    "\n",
    "Now, we examine the difference between the different segments according some important features of the EVs."
   ]
  },
  {
   "cell_type": "code",
   "execution_count": null,
   "id": "5d029900-e2c3-486a-85c2-a457eb5cc52b",
   "metadata": {},
   "outputs": [],
   "source": [
    "# Create the figure\n",
    "fig, axs = plt.subplots(figsize=(14,14), nrows=3, ncols=2)\n",
    "# Define segment order\n",
    "segment_order = [\"Passenger Van\", \"Mini & Compact\", \"Medium\", \"Large & Executive\", \"Luxury & Sports\"]\n",
    "# Create violinplots\n",
    "handles, labels = None, None\n",
    "for ax, metric in zip(axs.flatten(), metrics_new_segment.columns):\n",
    "    sns.stripplot(df, x=metric, hue=\"new_segment\", hue_order=segment_order, jitter=True, dodge=True, size=5, alpha=0.8, ax=ax)\n",
    "    sns.violinplot(df, x=metric, hue=\"new_segment\", hue_order=segment_order, alpha=0.2, ax=ax)\n",
    "    ax.set_xlabel(xlabel_map[metric], fontsize=16)\n",
    "    ax.set_ylabel(\"\", fontsize=16)\n",
    "    ax.set_xticks(ax.get_xticks())\n",
    "    ax.set_xticklabels(ax.get_xticklabels(), fontsize=14)\n",
    "    ax.set_yticks([])\n",
    "    #ax.legend(title=None, fontsize=14, loc=\"upper right\")\n",
    "    ax.grid(True, linewidth=0.5, linestyle=':', axis=\"x\")\n",
    "    ax.spines[[\"top\", \"right\", \"bottom\", \"left\"]].set_visible(False)\n",
    "    # The vi\n",
    "    if handles is None:\n",
    "        h, l = ax.get_legend_handles_labels()\n",
    "        by_label = dict(zip(l, h))\n",
    "        labels  = list(by_label.keys())\n",
    "        handles = [by_label[k] for k in labels]\n",
    "    ax.legend_.remove()\n",
    "\n",
    "fig.legend(handles, labels, loc=\"center left\", fontsize=14,\n",
    "           bbox_to_anchor=(1.02, 0.5), frameon=False, title=None)\n",
    "fig.tight_layout(rect=[0, 0, 0.95, 1])"
   ]
  },
  {
   "cell_type": "code",
   "execution_count": null,
   "id": "e8f5244b-5a96-476c-9f0d-a53a9d6e6502",
   "metadata": {},
   "outputs": [],
   "source": [
    "(df[df[\"new_segment\"]==\"Luxury & Sports\"]\n",
    "    .loc[:,[\"brand\", \"model\", \n",
    "            \"range_km\", \"torque_nm\", \"top_speed_kmh\", \"acceleration_0_100_s\", \"battery_capacity_kWh\", \"fast_charging_power_kw_dc\"]]\n",
    "    .sort_values(by=[\"top_speed_kmh\", \"acceleration_0_100_s\"], ascending=False).head(3))"
   ]
  },
  {
   "cell_type": "markdown",
   "id": "c786b746-c126-4354-b23d-58912602ba5b",
   "metadata": {},
   "source": [
    "The plots show how the distributions of different features compare across the different vehicle segments.\n",
    "\n",
    "The overall tendency shows that the mean values tend to increase with the segment, from _Passenger Van_ (lowest) to _Luxury & Sports_ (highest), with the latter also showing the largest variability. This behavior is expected, when we considered that _Luxury & Sports_ includes vehicles such as the _Maserati Folgore_ or the _Porche Taycan_ both with top speeds greater tahn 300 km/h, and on the other extreme in the _Passenger Vans_, we have small vehicles like the Dacia Spring with a top speed of 125 km/h.\n",
    "\n",
    "While this trends is clear, specially in features like _Top speed_ and _Acceleration_, we also see some overlap between the segments, specially between _Medium_ and _Large & Executive_. This suggests that the segment alone does not determine the vehicle performance.\n",
    "\n",
    "Further statistical test, are used to determine wheteher these observed categories are statistically significant."
   ]
  },
  {
   "cell_type": "markdown",
   "id": "a3d87117-b728-4d12-92e2-5a71eac1ec25",
   "metadata": {},
   "source": [
    "## Confidence intervals"
   ]
  },
  {
   "cell_type": "code",
   "execution_count": null,
   "id": "03ef65c3-1e8a-4457-8b95-43e190a4f9a0",
   "metadata": {},
   "outputs": [],
   "source": [
    "# Organize the features to perform the tests\n",
    "tests = list(combinations(models_by_new_segment.index, 2))\n",
    "test_results = pd.DataFrame(tests, columns=(\"Feature A\", \"Feature B\"))\n",
    "test_results"
   ]
  },
  {
   "cell_type": "markdown",
   "id": "89623e9d-dc98-47fd-9c86-f18adab457d1",
   "metadata": {},
   "source": [
    "## 4.3 Torque, Acceleration and Top speed by vehicle segment"
   ]
  },
  {
   "cell_type": "code",
   "execution_count": null,
   "id": "4829b57d-a7b0-4a99-b13e-4c9c9298e754",
   "metadata": {},
   "outputs": [],
   "source": [
    "fig, ax = plt.subplots(figsize=(16,8))\n",
    "# Torque vs acceleration\n",
    "sns.scatterplot(df.rename(columns=xlabel_map),\n",
    "                x=\"Torque (Nm)\",\n",
    "                y=\"Acceleration 0-100 km/h (s)\",\n",
    "                hue=\"New Segment\",\n",
    "                style=\"Drivetrain\",\n",
    "                s=100,\n",
    "                ax=ax)\n",
    "# Edit the plot\n",
    "ax.grid(True, linewidth=0.5, linestyle=\":\")\n",
    "ax.spines[[\"top\", \"right\", \"bottom\", \"left\"]].set_visible(False)\n",
    "ax.set_xticks(ax.get_xticks())\n",
    "ax.set_xticklabels(ax.get_xticklabels(), fontsize=14)\n",
    "ax.set_yticks(ax.get_yticks())\n",
    "ax.set_yticklabels(ax.get_yticklabels(), fontsize=14)\n",
    "ax.set_xlabel(ax.get_xlabel(), fontsize=16)\n",
    "ax.set_ylabel(ax.get_ylabel(), fontsize=16)"
   ]
  },
  {
   "cell_type": "code",
   "execution_count": null,
   "id": "7614342d-d467-4532-959e-53b392a128e9",
   "metadata": {},
   "outputs": [],
   "source": [
    "mean_torque = df_torque.torque_nm.mean()\n",
    "mean_torque"
   ]
  },
  {
   "cell_type": "code",
   "execution_count": null,
   "id": "7983e5d0-286e-4651-9183-7b3731bbac24",
   "metadata": {},
   "outputs": [],
   "source": [
    "total_count_AWD = df_torque[(df_torque[\"drivetrain\"] == \"AWD\")][\"model\"].count()\n",
    "count_count_AWD_greater_than_m =df_torque[(df_torque[\"drivetrain\"] == \"AWD\") & (df_torque[\"torque_nm\"] > mean_torque)][\"model\"].count()\n",
    "\n",
    "print(round((count_count_AWD_greater_than_m / total_count_AWD)*100, 1), \"% of AWD vehicles with greater torque than the mean 498.01 Nm\")"
   ]
  },
  {
   "cell_type": "code",
   "execution_count": null,
   "id": "19f8d331-2ae9-4064-a026-491677d0c3a6",
   "metadata": {},
   "outputs": [],
   "source": [
    "luxury_AWD = df_torque[(df_torque[\"drivetrain\"] == \"AWD\") &\n",
    "    (df_torque[\"new_segment\"] == \"Luxury & Sports\")][[\"model\", \"drivetrain\", \"torque_nm\"]].shape[0]\n",
    "luxury_total = df_torque[(df_torque[\"new_segment\"] \n",
    "                          == \"Luxury & Sports\")][[\"model\", \"drivetrain\", \"torque_nm\"]].shape[0]\n",
    "print(round((luxury_AWD/luxury_total)*100, 1), \"% of Luxury & Sports vehicles are AWD\")"
   ]
  },
  {
   "cell_type": "code",
   "execution_count": null,
   "id": "f7e0dff6-1b32-443a-a426-489aa9bbd92b",
   "metadata": {},
   "outputs": [],
   "source": [
    "luxury_RWD = df_torque[(df_torque[\"drivetrain\"] == \"RWD\") &\n",
    "    (df_torque[\"new_segment\"] == \"Luxury & Sports\")][[\"model\", \"drivetrain\", \"torque_nm\"]].shape[0]\n",
    "print(round((luxury_RWD/luxury_total)*100, 1), \"% of Luxury & Sports vehicles are RWD\")"
   ]
  },
  {
   "cell_type": "markdown",
   "id": "445cb3bb-b944-4829-831d-078f895ae39b",
   "metadata": {},
   "source": [
    "The seven missing vehicles with no torque data are not included in this part of the analysis.\n",
    "\n",
    "94.6% of AWD vehicles have a higher values of torque than the mean of all vehicles (498.01 Nm), many of the RWD vehicles revolve around the mean value of the torque and all the FWD vehicles in the dataset have lower torque values than the mean of all vehicles.\n",
    "\n",
    "The vehicles belonging to the _Mini & compact_ segment present low values of torque and long acceleration times, with very few exceptions such as the Smart Brabus, which is an AWD vehicle and has a torque value (584 Nm) greater than the mean.\n",
    "\n",
    "Vehicles of the _Passenger Vans_ and _Medium_ segments can also be found on the lower end of the torque values which also translates in low acceleration times.\n",
    "\n",
    "_Large & Executive_ vehicles are spread over a wide range of torque and acceleration values. The way they are distributed follows the trend  previously mentioned regrading the drivetrain, FWD vehicles are on the lower end of the torque and acceleration values, it then progresses to RWD vehicles with many vehicles revolving around the mean values of torque (498.01 Nm) and acceleration (6.88 s), and finally the AWD vehicles that overlap with those of the _Luxury & Sports_ segement.\n",
    "\n",
    "_Luxury & Sports_ contains the vehicles with the highest torque and acceleration values, with 17.9% being RWD and 82.1% being AWD."
   ]
  },
  {
   "cell_type": "code",
   "execution_count": null,
   "id": "04735c9f-d704-4bba-a310-930effdff49e",
   "metadata": {},
   "outputs": [],
   "source": [
    "fig, ax = plt.subplots(figsize=(16,8))\n",
    "# Torque vs acceleration\n",
    "sns.scatterplot(df.rename(columns=xlabel_map),\n",
    "                x=\"Torque (Nm)\",\n",
    "                y=\"Top Speed (km/h)\",\n",
    "                hue=\"New Segment\",\n",
    "                style=\"Drivetrain\",\n",
    "                s=100,\n",
    "                ax=ax)\n",
    "# Edit the plot\n",
    "ax.grid(True, linewidth=0.5, linestyle=\":\")\n",
    "ax.spines[[\"top\", \"right\", \"bottom\", \"left\"]].set_visible(False)\n",
    "ax.set_xticks(ax.get_xticks())\n",
    "ax.set_xticklabels(ax.get_xticklabels(), fontsize=14)\n",
    "ax.set_yticks(ax.get_yticks())\n",
    "ax.set_yticklabels(ax.get_yticklabels(), fontsize=14)\n",
    "ax.set_xlabel(ax.get_xlabel(), fontsize=16)\n",
    "ax.set_ylabel(ax.get_ylabel(), fontsize=16)"
   ]
  },
  {
   "cell_type": "code",
   "execution_count": null,
   "id": "869bcfcd-5829-4f43-8cd6-e32adcffda06",
   "metadata": {},
   "outputs": [],
   "source": [
    "df_torque[(df_torque[\"torque_nm\"].between(700,800)) & (df_torque[\"new_segment\"] == \"Medium\")]"
   ]
  },
  {
   "cell_type": "markdown",
   "id": "af19d1fa-7fd0-4962-a4b6-d9283cb1657f",
   "metadata": {},
   "source": [
    "The torque and top speed scatter plot shows similar trends to those of the previous scatter plot, which aligns with the expectation that the vehicles that have high acceleration values will also have high top speeds.\n",
    "\n",
    "_Mini & Compact_ vehicles together with the _Passenger Vans_ show the lowest top speeds. Vehicles beloging to the _Medium segment_ have overall somwhat better top speed than the previous segments but there are some vehicles of this segment that show top speeds comparable to those of the _Large & Executive_ and _Luxury & Sports_ segments, such as the KIA EV6 and the Hyundai IONIQ 5 N, both reaching top speeds of 260 km/h with AWD drivetrains. The biggest overlap is still observed between the _Large & Executive_ and _Luxury & Sports_ segments"
   ]
  },
  {
   "cell_type": "code",
   "execution_count": null,
   "id": "15917e0e-0d8b-4287-ad56-f3e872aab7d7",
   "metadata": {},
   "outputs": [],
   "source": [
    "sns.catplot(df,\n",
    "            kind=\"strip\",\n",
    "            x=\"torque_nm\",\n",
    "            y=\"new_segment\",\n",
    "            col=\"drivetrain\")"
   ]
  },
  {
   "cell_type": "code",
   "execution_count": null,
   "id": "9fe1c5b8-cb4d-48e1-8147-a6af44db00cc",
   "metadata": {},
   "outputs": [],
   "source": [
    "df_by_segment_drivetrain = df[(df[\"new_segment\"] == \"Passenger Van\")]\n",
    "df_by_segment_drivetrain.loc[:, [\"brand\", \"model\", \"new_segment\", \"torque_nm\", \"acceleration_0_100_s\", \"drivetrain\"]]"
   ]
  },
  {
   "cell_type": "code",
   "execution_count": null,
   "id": "71bd5e27-30cc-4b66-aac9-59e14eb6d9c7",
   "metadata": {},
   "outputs": [],
   "source": []
  },
  {
   "cell_type": "code",
   "execution_count": null,
   "id": "f88e1514-a48a-46c1-9e81-79b95f9e8ffc",
   "metadata": {},
   "outputs": [],
   "source": []
  }
 ],
 "metadata": {
  "kernelspec": {
   "display_name": "Python 3 (ipykernel)",
   "language": "python",
   "name": "python3"
  },
  "language_info": {
   "codemirror_mode": {
    "name": "ipython",
    "version": 3
   },
   "file_extension": ".py",
   "mimetype": "text/x-python",
   "name": "python",
   "nbconvert_exporter": "python",
   "pygments_lexer": "ipython3",
   "version": "3.12.11"
  }
 },
 "nbformat": 4,
 "nbformat_minor": 5
}
